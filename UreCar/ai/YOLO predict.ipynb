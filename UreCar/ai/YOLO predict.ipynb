{
 "cells": [
  {
   "cell_type": "code",
   "execution_count": 73,
   "id": "62b96abb-455a-4a3d-821c-1fc4361443b3",
   "metadata": {},
   "outputs": [],
   "source": [
    "import os\n",
    "os.environ['CUDA_VISIBLE_DEVICES']='4'"
   ]
  },
  {
   "cell_type": "code",
   "execution_count": 74,
   "id": "e2610a53-7fc9-4316-8f44-d87f9e216414",
   "metadata": {},
   "outputs": [],
   "source": [
    "# 라이브러리 불러오기\n",
    "import os\n",
    "import json\n",
    "import shutil\n",
    "from PIL import Image\n",
    "import re\n",
    "import time\n",
    "import pickle\n",
    "import tempfile\n",
    "import cv2\n",
    "from ultralytics import YOLO"
   ]
  },
  {
   "cell_type": "markdown",
   "id": "45d9c6dc-2a1f-4952-b23e-cde6b9fa1bfd",
   "metadata": {},
   "source": [
    "## 예측 코드"
   ]
  },
  {
   "cell_type": "code",
   "execution_count": 86,
   "id": "527055f0-e4aa-4ecc-ad95-a99b3e4b336e",
   "metadata": {},
   "outputs": [
    {
     "name": "stdout",
     "output_type": "stream",
     "text": [
      "\n",
      "image 1/1 /home/j-j11a303/platecar3_downsample_downsample.jpg: 480x640 (no detections), 8.0ms\n",
      "Speed: 1.5ms preprocess, 8.0ms inference, 0.7ms postprocess per image at shape (1, 3, 480, 640)\n",
      "Results saved to \u001b[1mruns/detect/predict80\u001b[0m\n"
     ]
    }
   ],
   "source": [
    "# 1. 학습된 best.pt 모델 로드\n",
    "model = YOLO('runs/detect/train40/weights/best.pt')\n",
    "\n",
    "# 2. 예측하고자 하는 이미지 파일 경로\n",
    "# image_path = '[BLUE]00127A_101213_004.jpg'\n",
    "# image_path = '[BLUE]00219A_155106_002.jpg'\n",
    "image_path = 'platecar3_downsample.jpg'\n",
    "# image_path = '[BLUE]00309A_082918_012.jpg'\n",
    "\n",
    "# 3. 이미지 불러오기\n",
    "img = cv2.imread(image_path)\n",
    "\n",
    "# 3. 이미지 다운샘플링 \n",
    "downsampled_img = cv2.resize(img, (640, 480))\n",
    "\n",
    "# # 5. 리사이즈된 이미지 임시 저장 (YOLO는 파일 경로를 입력받으므로, 리사이즈된 이미지를 임시 파일로 저장)\n",
    "file_name, file_ext = os.path.splitext(image_path)\n",
    "downsampled_image_path  = f\"{file_name}_downsample{file_ext}\"\n",
    "cv2.imwrite(downsampled_image_path , downsampled_img)\n",
    "\n",
    "# # 4. 이미지 크기를 1920x1080으로 리사이즈\n",
    "# resized_img = cv2.resize(img, (1920, 1080))\n",
    "\n",
    "# # 5. 리사이즈된 이미지 임시 저장 (YOLO는 파일 경로를 입력받으므로, 리사이즈된 이미지를 임시 파일로 저장)\n",
    "# file_name, file_ext = os.path.splitext(image_path)\n",
    "# temp_image_path = f\"{file_name}_resized{file_ext}\"\n",
    "# cv2.imwrite(temp_image_path, resized_img)\n",
    "\n",
    "# 이미지 예측\n",
    "results = model.predict(source=downsampled_image_path , save=True, imgsz=640)  # your_image.jpg 경로에 맞게 수정\n",
    "\n",
    "# 예측 결과가 저장된 폴더 경로 가져오기\n",
    "save_dir = str(results[0].save_dir)\n",
    "\n",
    "# 원본 이미지 불러오기\n",
    "orig_img = results[0].orig_img\n",
    "\n",
    "# 탐지된 차량 이미지를 저장된 결과 폴더에 저장\n",
    "for i, vehicle_box in enumerate(results[0].boxes):\n",
    "    cls = int(vehicle_box.cls)\n",
    "    class_name = results[0].names[cls]\n",
    "    \n",
    "\n",
    "    # 차량 클래스일 경우만 저장\n",
    "    if class_name in ['vehicle_car', 'vehicle_bus', 'vehicle_truck', 'vehicle_bike']:\n",
    "        # 차량의 경계 상자 좌표 가져오기\n",
    "        x1, y1, x2, y2 = map(int, vehicle_box.xyxy[0])\n",
    "        \n",
    "        # 경계 상자로 차량 이미지 크롭\n",
    "        cropped_vehicle = orig_img[y1:y2, x1:x2]\n",
    "        \n",
    "        # 저장 경로 설정\n",
    "        save_path = f\"{save_dir}/vehicle_{i}.jpg\"\n",
    "        \n",
    "        # 크롭한 차량 이미지를 저장\n",
    "        cv2.imwrite(save_path, cropped_vehicle)\n",
    "        print(f\"탐지된 차량이 {save_path}에 저장되었습니다.\")\n",
    "\n",
    "# 결과 확인\n",
    "for result in results:\n",
    "    result.plot()  # 예측 결과 이미지 출력"
   ]
  },
  {
   "cell_type": "code",
   "execution_count": 87,
   "id": "650e90b4-7be2-4b05-99cb-9fcbb4db04b2",
   "metadata": {},
   "outputs": [
    {
     "name": "stdout",
     "output_type": "stream",
     "text": [
      "[]\n"
     ]
    }
   ],
   "source": [
    "# 4. 차량과 차선 객체 분류\n",
    "vehicle_boxes = []\n",
    "lane_boxes = []\n",
    "\n",
    "for box in results[0].boxes:  # results[0]을 사용하여 첫 번째 결과에 접근\n",
    "    cls = int(box.cls)  # 클래스 인덱스 가져오기\n",
    "    class_name = results[0].names[cls]  # 클래스 이름 가져오기\n",
    "    \n",
    "    # 클래스 이름에 따라 차량과 차선을 구분\n",
    "    if class_name in ['vehicle_car', 'vehicle_bus', 'vehicle_truck', 'vehicle_bike']:\n",
    "        vehicle_boxes.append(box)\n",
    "    elif class_name in ['lane_white', 'lane_blue', 'lane_yellow', 'lane_shoulder']:\n",
    "        lane_boxes.append(box)\n",
    "\n",
    "# 5. 차량과 차선 간의 관계 분석\n",
    "def is_overlapping(box1, box2):\n",
    "    # 각 경계 상자의 좌표 (x1, y1, x2, y2)\n",
    "    x1_1, y1_1, x2_1, y2_1 = box1.xyxy[0].tolist()  # 차량 경계 상자 좌표\n",
    "    x1_2, y1_2, x2_2, y2_2 = box2.xyxy[0].tolist()  # 차선 경계 상자 좌표\n",
    "    \n",
    "    # 겹침 여부 확인 (두 상자가 겹치는 경우 True 반환)\n",
    "    return not (x2_1 < x1_2 or x2_2 < x1_1 or y2_1 < y1_2 or y2_2 < y1_1)\n",
    "\n",
    "\n",
    "print(vehicle_boxes)\n",
    "\n",
    "# 6. 불법 주차 여부 판단\n",
    "for vehicle_box in vehicle_boxes:\n",
    "    vehicle_coords = vehicle_box.xyxy  # 차량의 경계 상자 좌표\n",
    "    \n",
    "    for lane_box in lane_boxes:\n",
    "        lane_coords = lane_box.xyxy  # 차선의 경계 상자 좌표\n",
    "        \n",
    "        # 차량이 차선 위에 있는지 확인 (경계 상자 간의 겹침 여부 계산)\n",
    "        if is_overlapping(vehicle_box, lane_box):\n",
    "            lane_type = results[0].names[int(lane_box.cls)]  # 차선의 종류\n",
    "            print(f\"차량이 {lane_type} 차선 위에 있습니다.\")\n",
    "            \n",
    "            # 파란색 차선 위에 있으면 불법 주차로 판단\n",
    "            if lane_type in  ['lane_blue', 'lane_yellow', 'lane_shoulder']:\n",
    "                print(\"불법 주차입니다.\")\n",
    "            else:\n",
    "                print(\"정상 주차입니다.\")"
   ]
  },
  {
   "cell_type": "code",
   "execution_count": 77,
   "id": "911fdf13-0a81-424a-a8a1-5577b4a46ff3",
   "metadata": {},
   "outputs": [
    {
     "name": "stdout",
     "output_type": "stream",
     "text": [
      "[ultralytics.engine.results.Results object with attributes:\n",
      "\n",
      "boxes: ultralytics.engine.results.Boxes object\n",
      "keypoints: None\n",
      "masks: None\n",
      "names: {0: 'vehicle_car', 1: 'vehicle_bus', 2: 'vehicle_truck', 3: 'vehicle_bike', 4: 'lane_white', 5: 'lane_blue', 6: 'lane_yellow', 7: 'lane_shoulder'}\n",
      "obb: None\n",
      "orig_img: array([[[131, 137, 136],\n",
      "        [134, 139, 137],\n",
      "        [171, 172, 168],\n",
      "        ...,\n",
      "        [187, 188, 184],\n",
      "        [189, 190, 186],\n",
      "        [192, 193, 189]],\n",
      "\n",
      "       [[117, 123, 122],\n",
      "        [152, 157, 155],\n",
      "        [178, 180, 174],\n",
      "        ...,\n",
      "        [192, 193, 189],\n",
      "        [191, 192, 188],\n",
      "        [190, 191, 187]],\n",
      "\n",
      "       [[156, 165, 162],\n",
      "        [195, 202, 197],\n",
      "        [193, 197, 191],\n",
      "        ...,\n",
      "        [190, 191, 187],\n",
      "        [188, 189, 185],\n",
      "        [186, 187, 183]],\n",
      "\n",
      "       ...,\n",
      "\n",
      "       [[150, 151, 147],\n",
      "        [149, 150, 146],\n",
      "        [126, 127, 123],\n",
      "        ...,\n",
      "        [169, 170, 166],\n",
      "        [148, 149, 145],\n",
      "        [149, 150, 146]],\n",
      "\n",
      "       [[168, 170, 164],\n",
      "        [154, 156, 150],\n",
      "        [145, 146, 142],\n",
      "        ...,\n",
      "        [185, 186, 182],\n",
      "        [147, 148, 144],\n",
      "        [177, 178, 174]],\n",
      "\n",
      "       [[152, 154, 148],\n",
      "        [140, 142, 136],\n",
      "        [176, 177, 173],\n",
      "        ...,\n",
      "        [144, 145, 141],\n",
      "        [151, 152, 148],\n",
      "        [157, 158, 154]]], dtype=uint8)\n",
      "orig_shape: (480, 640)\n",
      "path: '/home/j-j11a303/platecar1_downsample.jpg'\n",
      "probs: None\n",
      "save_dir: 'runs/detect/predict75'\n",
      "speed: {'preprocess': 1.5211105346679688, 'inference': 6.955862045288086, 'postprocess': 0.6778240203857422}]\n"
     ]
    }
   ],
   "source": [
    "print(results)"
   ]
  },
  {
   "cell_type": "code",
   "execution_count": 31,
   "id": "becbe633-683d-49b3-b9fc-d9c7262d6ae6",
   "metadata": {},
   "outputs": [
    {
     "name": "stdout",
     "output_type": "stream",
     "text": [
      "tensor(1., device='cuda:0')\n"
     ]
    }
   ],
   "source": [
    "print(results[0].boxes.cls[1])"
   ]
  },
  {
   "cell_type": "code",
   "execution_count": null,
   "id": "4d4ff775-1593-492e-9b84-5a3396ad76e0",
   "metadata": {},
   "outputs": [],
   "source": []
  }
 ],
 "metadata": {
  "kernelspec": {
   "display_name": "urecar",
   "language": "python",
   "name": "urecar"
  },
  "language_info": {
   "codemirror_mode": {
    "name": "ipython",
    "version": 3
   },
   "file_extension": ".py",
   "mimetype": "text/x-python",
   "name": "python",
   "nbconvert_exporter": "python",
   "pygments_lexer": "ipython3",
   "version": "3.10.12"
  }
 },
 "nbformat": 4,
 "nbformat_minor": 5
}
